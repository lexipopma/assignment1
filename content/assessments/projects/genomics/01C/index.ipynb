{
  "cells": [
    {
      "cell_type": "markdown",
      "metadata": {
        "id": "gCBGiJQFSLw4"
      },
      "source": [
        "<h1 style=\"margin-bottom: 0.4em; text-align: center;\">\n",
        "    <b>Project 1</b><br>\n",
        "    Assignment C\n",
        "</h1>\n",
        "<h2 style=\"margin-top: 0.0em; text-align: center;\">\n",
        "    Genome assembly\n",
        "</h2>\n",
        "\n",
        "<p style=\"text-align: center;\">\n",
        "    <object hspace=\"50\">\n",
        "        <strong>Due</strong></a>: Jan 31, 2025 by 11:59 p.m.\n",
        "    </object>\n",
        "    <object hspace=\"50\">\n",
        "        <strong>Points</strong></a>: 60\n",
        "    </object>\n",
        "</p>\n",
        "\n",
        "Always ensure you are working within in same \"BIOSC 1540 Project\" that you used for [P01B](https://pitt-biosc1540-2025s.oasci.org/lectures/04A/).\n",
        "If you encounter any issues with Galaxy, check their [support](https://galaxyproject.org/support/) and [training](https://training.galaxyproject.org/).\n",
        "\n",
        "Please set the `STUDENT_ID` variable in the cell below to your student ID number."
      ]
    },
    {
      "cell_type": "code",
      "execution_count": null,
      "metadata": {
        "id": "ch6a6knqSLw5"
      },
      "outputs": [],
      "source": [
        "STUDENT_ID = 4430704"
      ]
    },
    {
      "cell_type": "markdown",
      "metadata": {
        "id": "walNBMZcSLw6"
      },
      "source": [
        "## Q01\n",
        "\n",
        "First, we are going to download the reference genome for [*Staphylococcus aureus* MRSA252](https://www.ncbi.nlm.nih.gov/nuccore/?from_uid=32628&linkname=assembly_nuccore_refseq).\n",
        "\n",
        "1.  In the Galaxy interface, search for \"NCBI Datasets Genomes\" in the tools panel.\n",
        "2.  Click on \"NCBI Datasets Genomes download genome sequence, annotation and metadata\".\n",
        "3.  In the tool interface, set the following parameters:\n",
        "    -   \"Enter comma separated list of accessions\": enter `GCF_000011505.1`\n",
        "4.  Click \"Run Tool\".\n",
        "\n",
        "### A\n",
        "\n",
        "In the assembly information page linked above (or click [here](https://www.ncbi.nlm.nih.gov/nuccore/?from_uid=32628&linkname=assembly_nuccore_refseq)), please fill out the following three statistics."
      ]
    },
    {
      "cell_type": "code",
      "execution_count": null,
      "metadata": {
        "id": "Kmx2AyYsSLw6"
      },
      "outputs": [],
      "source": [
        "GENOME_LENGTH = 2902619\n",
        "N_GENES = 117\n",
        "N_CDS_WITH_PROTEIN = 2685"
      ]
    },
    {
      "cell_type": "markdown",
      "metadata": {
        "id": "9Frp1UH9SLw6"
      },
      "source": [
        "### B\n",
        "\n",
        "Using the [PGAP documentation](https://www.ncbi.nlm.nih.gov/refseq/annotation_prok/), what does \"CDSs (with protein)\" mean?\n",
        "\n",
        "---\n",
        "\n",
        "It is a coding sequence in the gene that encodes amino acids for a protein."
      ]
    },
    {
      "cell_type": "markdown",
      "metadata": {
        "id": "_4vUHLOFSLw7"
      },
      "source": [
        "## Q02\n",
        "\n",
        "We will use [SPAdes](https://ablab.github.io/spades/), a versatile genome assembler designed for both small genomes and single-cell projects, to assemble our genome.\n",
        "Follow the instructions below for both your cleaned parental and evolved FASTQ files (after fastp).\n",
        "\n",
        "1.  In the Galaxy interface, search for \"SPAdes\" in the tools panel.\n",
        "2.  Click on \"SPAdes genome assembler for genomes of regular and single-cell projects\".\n",
        "3.  In the tool interface, set the following parameters:\n",
        "    -   \"Operation mode\": Select \"Assembly and error correction\"\n",
        "    -   \"Single-end or paired-end short-reads\": Choose \"Paired-end: list of dataset pairs\"\n",
        "    -   \"FASTA/FASTQ file(s)\": Select your paired-end output from the fastp calculation (from [P01B](https://pitt-biosc1540-2025s.oasci.org/lectures/04A/)).\n",
        "    -   Under \"Pipeline options\", check \"Isolate: highly recommended for high-coverage isolate and multi-cell data (--isolate)\" to be selected.\n",
        "4.  Click \"Run Tool\".\n",
        "\n",
        "Once this finishes, which could take from minutes to hours, we will use [quast](https://github.com/ablab/quast) to quantify the quality of our assembly.\n",
        "Follow the instructions below for both your parental and evolved SPAdes assemblies.\n",
        "\n",
        "1.  In the Galaxy interface, search for \"Quast\" in the tools panel.\n",
        "2.  Click on \"Quast GEnome assembly Quality\"\n",
        "3.  In the tool interface, set the following options:\n",
        "    -   \"Assembly mode?\" set to \"Individual assembly (1 contig file per sample)\"\n",
        "    -   \"Contigs/scaffolds file\" select your SPAdes Scaffolds.\n",
        "    -   \"Use a reference genome?\" should be \"Yes\"\n",
        "    -   For \"Reference genome\", click the \"Dataset icon\" (looks like a folder) and select \"NCBI Genome Dataset: genome fasta\".\n",
        "4.  Click \"Run Tool\".\n",
        "\n",
        "\n",
        "### A\n",
        "\n",
        "Please fill out the following variables from your quast HTML report."
      ]
    },
    {
      "cell_type": "code",
      "execution_count": null,
      "metadata": {
        "id": "iix-bTQiSLw7"
      },
      "outputs": [],
      "source": [
        "PARENTAL_GENOME_FRACTION = 88.746\n",
        "PARENTAL_DUPLICATION_RATIO = 1.005\n",
        "PARENTAL_TOTAL_ALIGNED_LENGTH = 2539800\n",
        "PARENTAL_NUM_MISASSEMBLIES = 48\n",
        "\n",
        "PARENTAL_N_CONTIGS = 600\n",
        "PARENTAL_N50 = 126389\n",
        "PARENTAL_L50 = 6\n",
        "PARENTAL_GC_PERCENT = 32.8"
      ]
    },
    {
      "cell_type": "code",
      "execution_count": null,
      "metadata": {
        "id": "m-tToZLdSLw8"
      },
      "outputs": [],
      "source": [
        "EVOLVED_GENOME_FRACTION = 89.025\n",
        "EVOLVED_DUPLICATION_RATIO = 1.009\n",
        "EVOLVED_TOTAL_ALIGNED_LENGTH = 2546203\n",
        "EVOLVED_NUM_MISASSEMBLIES = 54\n",
        "\n",
        "EVOLVED_N_CONTIGS = 400\n",
        "EVOLVED_N50 = 192130\n",
        "EVOLVED_L50 = 5\n",
        "EVOLVED_GC_PERCENT = 32.79"
      ]
    },
    {
      "cell_type": "markdown",
      "metadata": {
        "id": "tlL5rgXvSLw9"
      },
      "source": [
        "### B\n",
        "\n",
        "Using the assembly statistics provided for the parental and evolved genomes, determine which assembly (if any) is more reliable.\n",
        "Your answer should compare quantifiable metrics such as N50, L50, total assembly length, number of contigs, and any other relevant quality indicators.\n",
        "Be sure to explain your reasoning and how these metrics support your conclusion.\n",
        "\n",
        "---\n",
        "\n",
        "The evolved genome assembly is more reliable. The main factors for this decision are the N50 and the L50 values. For the parental genome the N50 is 126389 and for the evolved genome is it 192130. These values indicate the shortest contig length at 50% of the total assembly length, when they are arranged in decsending order. The evolved genome having a larger N50 points to its genome being more complete as it is seen to be mostly made up of larger contigs. The L50 values also relate to this. The parent genome has an L50 of 6, and the evolved genome has an L50 of 5. This means that it took fewer contigs to make up half of the genome in the evolved, pointing to there being a more complete genome assembly. These values can be compared because the total genome length of the parent and evolved genomes are very close in size, being 2539800 and 2546203 respectively. If these genomes were not as close in size the comparison of the L50 and N50 values would not hold as much meaning."
      ]
    },
    {
      "cell_type": "markdown",
      "metadata": {
        "id": "D_H16d0fSLw-"
      },
      "source": [
        "### C\n",
        "\n",
        "Compare the genome fraction between the reference genome and the parental assembly.\n",
        "Use this comparison to interpret the quality and completeness of your parental assembly.\n",
        "Discuss what the genome fraction indicates about how well the assembly represents the reference genome, including potential gaps, missing regions, or errors.\n",
        "\n",
        "---\n",
        "\n",
        "The genome fraction for the parent was 88.746, and for the evolved was 89.025. These numbers indicate that both genomes matched the reference genome fairly well. The reason that these scores are not 100 could be for a number of reasons. There could have been missing regions in the parent or evolved genomes, meaning that the reference genome could not match in those areas. Errors in the parent and evolved genomes could also cause the fraction to be lowered by causing issues in alignment (with insertions, deletions, or any other sequencing errors). This all shows that the parental assembly has good quality and completeness. It is has slightly lower quality and completeness than the evolved genome, but the differences between them are very small."
      ]
    },
    {
      "cell_type": "markdown",
      "metadata": {
        "id": "dHBHYC92SLxC"
      },
      "source": [
        "## Q03\n",
        "\n",
        "Using the reads provided in the FASTA file, perform a manual greedy assembly.\n",
        "\n",
        "```text\n",
        ">read_1\n",
        "TGTACGTA\n",
        ">read_2\n",
        "TACATTAA\n",
        ">read_3\n",
        "TAAGCGAG\n",
        ">read_4\n",
        "GCCACTAG\n",
        ">read_5\n",
        "AGCGTT\n",
        ">read_6\n",
        "CATTAAGC\n",
        ">read_7\n",
        "ATTAAGCG\n",
        ">read_8\n",
        "ACGTACAT\n",
        ">read_9\n",
        "GTACGTAC\n",
        ">read_10\n",
        "ACGTACAT\n",
        "```\n",
        "\n",
        "Instructions for submission:\n",
        "\n",
        "1. Write your step-by-step work for the greedy assembly directly in the notebook below this prompt.\n",
        "2. Clearly show the overlaps you identify at each step, the reads you merge, and the resulting sequences after each merge.\n",
        "3. Provide the final assembled sequence(s) at the end of your explanation.\n",
        "\n",
        "**Example Format for Answer:**\n",
        "\n",
        "1. **Step 1:**\n",
        "   - Overlap between `read_1` and `read_9`: `TGTACGTA` overlaps with `GTACGTAC` (overlap = 7 bases).\n",
        "   - Merge: `TGTACGTAC`.\n",
        "   - Remaining reads: `[merged_read, read_2, read_3, ...]`.\n",
        "2. **Step 2:**\n",
        "   - Overlap between `merged_read` and `read_10`: `ACGTACAT` overlaps with `TACAT...` (overlap = 5 bases).\n",
        "   - Merge: `TGTACGTACAT`.\n",
        "   - Remaining reads: `[merged_read, read_2, read_3, ...]`.\n",
        "\n",
        "*(Continue this process for all steps.)*\n",
        "\n",
        "4. **Final Assembly:**\n",
        "   - Assembled sequence(s): `TGTACGTACAT...` (or list of contigs if not fully assembled).\n",
        "\n",
        "---"
      ]
    },
    {
      "cell_type": "markdown",
      "metadata": {
        "id": "cr0cg2V8SLxF"
      },
      "source": [
        "Put your steps here."
      ]
    },
    {
      "cell_type": "markdown",
      "metadata": {
        "id": "1kw0rpk_SLxG"
      },
      "source": [
        "### B\n",
        "\n",
        "Using the reads provided in the FASTA file, construct a De Bruijn graph to model the relationships between overlapping sequences.\n",
        "A De Bruijn graph is a powerful tool in genome assembly, where $(k-1)$-mers form the nodes, and $k$-mers define the directed edges connecting the nodes.\n",
        "By following this approach, you will explore how to visualize and analyze the connections within the sequencing data.\n",
        "\n",
        "Your task involves three main steps: constructing the graph, extracting relevant contigs, and justifying your findings based on the graph’s structure.\n",
        "\n",
        "To construct the De Bruijn graph:\n",
        "\n",
        "- Use $k = 4$ to define the edges (4-mers) and nodes ($k-1 = 3$-mers).\n",
        "- For each read in the FASTA file, break it into overlapping $k$-mers. For example, the read `\"TGTACGTA\"` produces the 4-mers: `\"TGTA\"`, `\"GTAC\"`, `\"TACG\"`, and `\"ACGT\"`.\n",
        "- Extract the $(k-1)$-mers from these $k$-mers. For example, the edge `\"TGTA\"` connects the nodes `\"TGT\"` and `\"GTA\"`.\n",
        "- List all nodes and directed edges, and represent the graph visually using Mermaid syntax.\n",
        "\n",
        "To extract relevant contigs:\n",
        "\n",
        "- Traverse the De Bruijn graph to extract all representative contigs. A contig is a contiguous path through the graph, representing a sequence of overlapping $k$-mers.\n",
        "- Contigs are typically identified by finding paths between nodes with unique in/out degrees (i.e., tips) or resolving ambiguous regions like branches or cycles.\n",
        "- Write down the paths extracted as your contigs.\n",
        "\n",
        "The following code block is an example of a De Bruijn graph constructed from overlapping $(k-1)$-mers:\n",
        "\n",
        "```text\n",
        "flowchart LR\n",
        "    %% NODES\n",
        "    GA((GA))\n",
        "    AT((AT))\n",
        "    TT((TT))\n",
        "    TA((TA))\n",
        "    AC((AC))\n",
        "    CA((CA))\n",
        "    AG((AG))\n",
        "    CC((CC))\n",
        "    CG((CG))\n",
        "    GG((GG))\n",
        "\n",
        "    %% EDGES\n",
        "    GA --> AT\n",
        "    GA --> AT\n",
        "    GA --> AT\n",
        "    AT --> TT\n",
        "    AT --> TT\n",
        "    AT --> TT\n",
        "    TT --> TA\n",
        "    TA --> AC\n",
        "    TA --> AC\n",
        "    AC --> CA\n",
        "    AC --> CC\n",
        "    CC --> CG\n",
        "    CA --> AG\n",
        "    AG --> GA\n",
        "    GG --> GA\n",
        "```\n",
        "\n",
        "You can use [mermaid.js](https://mermaid.live/) to build and view your graph."
      ]
    },
    {
      "cell_type": "markdown",
      "metadata": {
        "id": "YZBpmqCRSLxJ"
      },
      "source": [
        "## Q04\n",
        "\n",
        "K-mers are substrings of length $k$ extracted from DNA sequences, often overlapping by one base.\n",
        "For example, the 4-mers in the sequence `\"ATCGTAC\"` are `\"ATCG\"`, `\"TCGT\"`, `\"CGTA\"`, and `\"GTAC\"`.\n",
        "By calculating the frequency of each k-mer across all the reads, we can identify repetitive patterns and unique sequences.\n",
        "\n",
        "### A\n",
        "\n",
        "Your first task is to write a function, `kmer_frequency`, that will:\n",
        "\n",
        "- Take a single argument of a list of DNA sequences and a specified k-mer size $k$ as input.\n",
        "- Return a single dictionary where the keys are unique k-mers and the values are the number of times each k-mer appears across all reads.\n",
        "\n",
        "Imagine you’re working with the following DNA reads:  \n",
        "`[\"ATCGTACGTA\", \"GCGTACGTAA\", \"TACGTAGCGA\"]`  \n",
        "and you’re analyzing 4-mers ($k=4$) for a genome estimated to be 50 bases long.\n",
        "\n",
        "Your function should identify and count all 4-mers across the reads. For example, `\"ATCG\"` appears once, while `\"CGTA\"` appears three times. The resulting dictionary might look like this:\n",
        "  ```python\n",
        "  {'ATCG': 1, 'TCGT': 2, 'CGTA': 3, 'GTAC': 3, 'TACG': 3, 'ACGT': 2, 'CGTG': 1, 'GTAG': 1, 'TAGC': 1, 'AGCG': 1, 'GCGA': 1}\n",
        "  ```"
      ]
    },
    {
      "cell_type": "code",
      "execution_count": 17,
      "metadata": {
        "id": "5SwaOa98SLxL",
        "outputId": "4faf01bb-bd96-4d74-e80a-692d9d51ba28",
        "colab": {
          "base_uri": "https://localhost:8080/"
        }
      },
      "outputs": [
        {
          "output_type": "stream",
          "name": "stdout",
          "text": [
            "Counter({'CGTA': 2, 'ATCG': 1, 'TCGT': 1, 'GTAC': 1, 'TACG': 1, 'ACGT': 1})\n"
          ]
        }
      ],
      "source": [
        "from typing_extensions import Counter\n",
        "# TODO: Write kmer_frequency function here\n",
        "read = \"ATCGTACGTA\"\n",
        "k_value = 4\n",
        "\n",
        "def freq_kmers(s, k):\n",
        "  kmers = [s[i:i+k] for i in range(len(s)-k+1)]\n",
        "  num_kmers = Counter(kmers)\n",
        "  return num_kmers\n",
        "\n",
        "result = freq_kmers(read, k_value)\n",
        "print(result)"
      ]
    },
    {
      "cell_type": "markdown",
      "metadata": {
        "id": "iXZ_XCpNSLxM"
      },
      "source": [
        "### B\n",
        "\n",
        "Once you’ve calculated the k-mer frequencies, you’ll need to find the k-mer that appears most frequently.\n",
        "This step is crucial for identifying repetitive sequences, which may represent highly abundant genes or genomic regions prone to sequencing errors.\n",
        "If multiple k-mers have the same highest frequency, choose the lexicographically smallest one (alphabetical order).\n",
        "\n",
        "You’ll write a second function, `most_frequent_kmer`, that:\n",
        "\n",
        "- Takes the k-mer frequency dictionary as input.\n",
        "- Returns two outputs: the k-mer with the highest frequency and its count.\n",
        "\n",
        "From the above dictionary, `\"CGTA\"` is the most frequent k-mer, appearing 3 times.\n",
        "If there were a tie, you would choose the lexicographically smallest k-mer."
      ]
    },
    {
      "cell_type": "code",
      "execution_count": null,
      "metadata": {
        "id": "Dl4tnTYjSLxO"
      },
      "outputs": [],
      "source": [
        "# TODO: Write most_frequent_kmer function here"
      ]
    }
  ],
  "metadata": {
    "kernelspec": {
      "display_name": "default",
      "language": "python",
      "name": "python3"
    },
    "language_info": {
      "codemirror_mode": {
        "name": "ipython",
        "version": 3
      },
      "file_extension": ".py",
      "mimetype": "text/x-python",
      "name": "python",
      "nbconvert_exporter": "python",
      "pygments_lexer": "ipython3",
      "version": "3.12.8"
    },
    "colab": {
      "provenance": []
    }
  },
  "nbformat": 4,
  "nbformat_minor": 0
}